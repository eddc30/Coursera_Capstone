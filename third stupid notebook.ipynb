{
    "cells": [
        {
            "cell_type": "code",
            "execution_count": 1,
            "metadata": {},
            "outputs": [
                {
                    "name": "stdout",
                    "output_type": "stream",
                    "text": "Collecting package metadata (current_repodata.json): done\nSolving environment: failed with initial frozen solve. Retrying with flexible solve.\nSolving environment: failed with repodata from current_repodata.json, will retry with next repodata source.\nCollecting package metadata (repodata.json): done\nSolving environment: \\ ^C\nfailed with initial frozen solve. Retrying with flexible solve.\n\nCondaError: KeyboardInterrupt\n\nLibraries imported.\n"
                }
            ],
            "source": "import numpy as np # library to handle data in a vectorized manner\n\nimport pandas as pd # library for data analsysis\npd.set_option('display.max_columns', None)\npd.set_option('display.max_rows', None)\n\nimport json # library to handle JSON files\n\n#!conda install -c conda-forge geopy --yes # uncomment this line if you haven't completed the Foursquare API lab\n#from geopy.geocoders import Nominatim # convert an address into latitude and longitude values\n\nimport requests # library to handle requests\nfrom pandas.io.json import json_normalize # tranform JSON file into a pandas dataframe\n\n# Matplotlib and associated plotting modules\nimport matplotlib.cm as cm\nimport matplotlib.colors as colors\n\n# import k-means from clustering stage\nfrom sklearn.cluster import KMeans\n\n\nprint('Libraries imported.')"
        },
        {
            "cell_type": "code",
            "execution_count": null,
            "metadata": {},
            "outputs": [],
            "source": "\n#import requests\n#from bs4 import BeautifulSoup\n\n#res = requests.get(\"https://en.wikipedia.org/wiki/List_of_postal_codes_of_Canada:_M\")\n#soup = BeautifulSoup(res.content,'lxml')\n#table = soup.find_all('table')[0] \n#df = pd.read_html(str(table))[0]\n#df[\"Borough\"].replace(\"Not assigned\", np.nan, inplace = True)\n#\n#df.dropna(axis=0, inplace= True)\n#url= 'https://cocl.us/Geospatial_data'\n#df_latlong = pd.read_csv(url,)\n#\n#df_merged=pd.merge(df, df_latlong, on =[\"Postal Code\"])"
        },
        {
            "cell_type": "code",
            "execution_count": 2,
            "metadata": {},
            "outputs": [
                {
                    "name": "stdout",
                    "output_type": "stream",
                    "text": "Your credentails:\nCLIENT_ID: MTM3UOJ5BZELPUCKX3VQFVQYJSQATXRLHFXFEMZ15RCKAWT4\nCLIENT_SECRET:LYNOZJD1FJ3IIHDZYFFPU5IEATES44KNVIESBNLZGOXQXSBV\n"
                }
            ],
            "source": "CLIENT_ID = 'MTM3UOJ5BZELPUCKX3VQFVQYJSQATXRLHFXFEMZ15RCKAWT4' # your Foursquare ID\nCLIENT_SECRET = 'LYNOZJD1FJ3IIHDZYFFPU5IEATES44KNVIESBNLZGOXQXSBV' # your Foursquare Secret\nACCESS_TOKEN = 'MLYNLV3OMSJFNMKQRXHPH52M3G2PAR4PGLTYPZU2TFTSMFMG' # your FourSquare Access Token\nVERSION = '20180604'\nLIMIT = 500\nprint('Your credentails:')\nprint('CLIENT_ID: ' + CLIENT_ID)\nprint('CLIENT_SECRET:' + CLIENT_SECRET)\n\n\n"
        },
        {
            "cell_type": "code",
            "execution_count": 37,
            "metadata": {},
            "outputs": [],
            "source": "ID= [1, 2, 3,4]\n"
        },
        {
            "cell_type": "code",
            "execution_count": 43,
            "metadata": {},
            "outputs": [
                {
                    "name": "stdout",
                    "output_type": "stream",
                    "text": "https://api.foursquare.com/v2/venues/4?client_id=MTM3UOJ5BZELPUCKX3VQFVQYJSQATXRLHFXFEMZ15RCKAWT4&client_secret=LYNOZJD1FJ3IIHDZYFFPU5IEATES44KNVIESBNLZGOXQXSBV&oauth_token=MLYNLV3OMSJFNMKQRXHPH52M3G2PAR4PGLTYPZU2TFTSMFMG&v=20180604\nhttps://api.foursquare.com/v2/venues/4?client_id=MTM3UOJ5BZELPUCKX3VQFVQYJSQATXRLHFXFEMZ15RCKAWT4&client_secret=LYNOZJD1FJ3IIHDZYFFPU5IEATES44KNVIESBNLZGOXQXSBV&oauth_token=MLYNLV3OMSJFNMKQRXHPH52M3G2PAR4PGLTYPZU2TFTSMFMG&v=20180604\nhttps://api.foursquare.com/v2/venues/4?client_id=MTM3UOJ5BZELPUCKX3VQFVQYJSQATXRLHFXFEMZ15RCKAWT4&client_secret=LYNOZJD1FJ3IIHDZYFFPU5IEATES44KNVIESBNLZGOXQXSBV&oauth_token=MLYNLV3OMSJFNMKQRXHPH52M3G2PAR4PGLTYPZU2TFTSMFMG&v=20180604\nhttps://api.foursquare.com/v2/venues/4?client_id=MTM3UOJ5BZELPUCKX3VQFVQYJSQATXRLHFXFEMZ15RCKAWT4&client_secret=LYNOZJD1FJ3IIHDZYFFPU5IEATES44KNVIESBNLZGOXQXSBV&oauth_token=MLYNLV3OMSJFNMKQRXHPH52M3G2PAR4PGLTYPZU2TFTSMFMG&v=20180604\n"
                }
            ],
            "source": "\n\n#venue_id = '4fa862b3e4b0ebff2f749f06' # ID of Harry's Italian Pizza Bar\nurl = 'https://api.foursquare.com/v2/venues/{}?client_id={}&client_secret={}&oauth_token={}&v={}'.format(venue_id, CLIENT_ID, CLIENT_SECRET,ACCESS_TOKEN, VERSION)\nfor venue_id in ID:\n     print(url.format(ID))\nfor venue_id in ID:\n    print\n        \n"
        },
        {
            "cell_type": "code",
            "execution_count": null,
            "metadata": {},
            "outputs": [],
            "source": ""
        }
    ],
    "metadata": {
        "kernelspec": {
            "display_name": "Python 3.7",
            "language": "python",
            "name": "python3"
        },
        "language_info": {
            "codemirror_mode": {
                "name": "ipython",
                "version": 3
            },
            "file_extension": ".py",
            "mimetype": "text/x-python",
            "name": "python",
            "nbconvert_exporter": "python",
            "pygments_lexer": "ipython3",
            "version": "3.7.9"
        }
    },
    "nbformat": 4,
    "nbformat_minor": 1
}