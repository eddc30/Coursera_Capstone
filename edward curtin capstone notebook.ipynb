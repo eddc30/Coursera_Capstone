{
    "cells": [
        {
            "cell_type": "markdown",
            "metadata": {
                "collapsed": true
            },
            "source": "This notebook will be used for capstone project"
        },
        {
            "cell_type": "code",
            "execution_count": 1,
            "metadata": {},
            "outputs": [],
            "source": "import pandas as pd\nimport numpy as np"
        },
        {
            "cell_type": "code",
            "execution_count": 2,
            "metadata": {},
            "outputs": [
                {
                    "name": "stdout",
                    "output_type": "stream",
                    "text": "Hello Capstone Project Course!\n"
                }
            ],
            "source": "print (\"Hello Capstone Project Course!\")"
        },
        {
            "cell_type": "code",
            "execution_count": 3,
            "metadata": {},
            "outputs": [
                {
                    "name": "stderr",
                    "output_type": "stream",
                    "text": "/opt/conda/envs/Python-3.7-main/lib/python3.7/site-packages/sklearn/utils/deprecation.py:143: FutureWarning: The sklearn.datasets.samples_generator module is  deprecated in version 0.22 and will be removed in version 0.24. The corresponding classes / functions should instead be imported from sklearn.datasets. Anything that cannot be imported from sklearn.datasets is now part of the private API.\n  warnings.warn(message, FutureWarning)\n"
                },
                {
                    "name": "stdout",
                    "output_type": "stream",
                    "text": "Requirement already satisfied: geopy in /opt/conda/envs/Python-3.7-main/lib/python3.7/site-packages (2.0.0)\nRequirement already satisfied: geographiclib<2,>=1.49 in /opt/conda/envs/Python-3.7-main/lib/python3.7/site-packages (from geopy) (1.50)\nRequirement already satisfied: folium==0.5.0 in /opt/conda/envs/Python-3.7-main/lib/python3.7/site-packages (0.5.0)\nRequirement already satisfied: requests in /opt/conda/envs/Python-3.7-main/lib/python3.7/site-packages (from folium==0.5.0) (2.24.0)\nRequirement already satisfied: six in /opt/conda/envs/Python-3.7-main/lib/python3.7/site-packages (from folium==0.5.0) (1.15.0)\nRequirement already satisfied: jinja2 in /opt/conda/envs/Python-3.7-main/lib/python3.7/site-packages (from folium==0.5.0) (2.11.2)\nRequirement already satisfied: branca in /opt/conda/envs/Python-3.7-main/lib/python3.7/site-packages (from folium==0.5.0) (0.4.2)\nRequirement already satisfied: chardet<4,>=3.0.2 in /opt/conda/envs/Python-3.7-main/lib/python3.7/site-packages (from requests->folium==0.5.0) (3.0.4)\nRequirement already satisfied: urllib3!=1.25.0,!=1.25.1,<1.26,>=1.21.1 in /opt/conda/envs/Python-3.7-main/lib/python3.7/site-packages (from requests->folium==0.5.0) (1.25.9)\nRequirement already satisfied: idna<3,>=2.5 in /opt/conda/envs/Python-3.7-main/lib/python3.7/site-packages (from requests->folium==0.5.0) (2.9)\nRequirement already satisfied: certifi>=2017.4.17 in /opt/conda/envs/Python-3.7-main/lib/python3.7/site-packages (from requests->folium==0.5.0) (2020.12.5)\nRequirement already satisfied: MarkupSafe>=0.23 in /opt/conda/envs/Python-3.7-main/lib/python3.7/site-packages (from jinja2->folium==0.5.0) (1.1.1)\n"
                }
            ],
            "source": "import random \nimport numpy as np \nimport pandas as pd \n\nimport matplotlib.pyplot as plt \n%matplotlib inline \n\nfrom sklearn.cluster import KMeans \nfrom sklearn.datasets.samples_generator import make_blobs\n\npd.set_option('display.max_columns', None)\npd.set_option('display.max_rows', None)\n\nimport json\nimport requests \nfrom pandas.io.json import json_normalize\n\nimport matplotlib.cm as cm\nimport matplotlib.colors as colors\n\n\nfrom sklearn.cluster import KMeans\nimport requests\n\n!pip install geopy\nfrom geopy.geocoders import Nominatim # module to convert an address into latitude and longitude values\n\n# libraries for displaying images\nfrom IPython.display import Image \nfrom IPython.core.display import HTML \n! pip install folium==0.5.0\nimport folium # plotting library\n\n#from bs4 import BeautifulSoup\n\n#res = requests.get(\"https://en.wikipedia.org/wiki/List_of_postal_codes_of_Canada:_M\")\n#soup = BeautifulSoup(res.content,'lxml')\n#table = soup.find_all('table')[0] \n#df = pd.read_html(str(table))[0]\n#df[\"Borough\"].replace(\"Not assigned\", np.nan, inplace = True)\n\n#df.dropna(axis=0, inplace= True)\n#df.head(15)\n"
        },
        {
            "cell_type": "code",
            "execution_count": 12,
            "metadata": {},
            "outputs": [
                {
                    "name": "stdout",
                    "output_type": "stream",
                    "text": "Your credentails:\nCLIENT_ID: MTM3UOJ5BZELPUCKX3VQFVQYJSQATXRLHFXFEMZ15RCKAWT4\nCLIENT_SECRET:LYNOZJD1FJ3IIHDZYFFPU5IEATES44KNVIESBNLZGOXQXSBV\n"
                }
            ],
            "source": "CLIENT_ID = 'MTM3UOJ5BZELPUCKX3VQFVQYJSQATXRLHFXFEMZ15RCKAWT4' # your Foursquare ID\nCLIENT_SECRET = 'LYNOZJD1FJ3IIHDZYFFPU5IEATES44KNVIESBNLZGOXQXSBV' # your Foursquare Secret\nACCESS_TOKEN = 'MLYNLV3OMSJFNMKQRXHPH52M3G2PAR4PGLTYPZU2TFTSMFMG' # your FourSquare Access Token\nVERSION = '20180604'\nLIMIT = 500\nprint('Your credentails:')\nprint('CLIENT_ID: ' + CLIENT_ID)\nprint('CLIENT_SECRET:' + CLIENT_SECRET)\n"
        },
        {
            "cell_type": "code",
            "execution_count": 20,
            "metadata": {},
            "outputs": [
                {
                    "name": "stderr",
                    "output_type": "stream",
                    "text": "/opt/conda/envs/Python-3.7-main/lib/python3.7/site-packages/ipykernel/__main__.py:14: FutureWarning: pandas.io.json.json_normalize is deprecated, use pandas.json_normalize instead\n"
                },
                {
                    "data": {
                        "text/plain": "(50, 23)"
                    },
                    "execution_count": 20,
                    "metadata": {},
                    "output_type": "execute_result"
                }
            ],
            "source": "address = '300 4th st SE, Charlottesville Va'\n\ngeolocator = Nominatim(user_agent=\"foursquare_agent\")\nlocation = geolocator.geocode(address)\nlatitude = location.latitude\nlongitude = location.longitude\nsearch_query = 'Sheetz'\nradius = 999999999999999999999\nurl = 'https://api.foursquare.com/v2/venues/search?client_id={}&client_secret={}&ll={},{}&oauth_token={}&v={}&query={}&radius={}&limit={}'.format(CLIENT_ID, CLIENT_SECRET, latitude, longitude,ACCESS_TOKEN, VERSION, search_query, radius, LIMIT)\nresults = requests.get(url).json()\nvenues = results['response']['venues']\n\n\ndataframe_sheetz = json_normalize(venues)\ndataframe_sheetz.shape"
        },
        {
            "cell_type": "code",
            "execution_count": 25,
            "metadata": {},
            "outputs": [
                {
                    "name": "stderr",
                    "output_type": "stream",
                    "text": "/opt/conda/envs/Python-3.7-main/lib/python3.7/site-packages/ipykernel/__main__.py:14: FutureWarning: pandas.io.json.json_normalize is deprecated, use pandas.json_normalize instead\n"
                },
                {
                    "data": {
                        "text/plain": "(50, 24)"
                    },
                    "execution_count": 25,
                    "metadata": {},
                    "output_type": "execute_result"
                }
            ],
            "source": "address = '300 4th st SE, Charlottesville Va'\n\ngeolocator = Nominatim(user_agent=\"foursquare_agent\")\nlocation = geolocator.geocode(address)\nlatitude = location.latitude\nlongitude = location.longitude\nsearch_query = 'Wawa'\nradius = 999999999999999999999\nurl = 'https://api.foursquare.com/v2/venues/search?client_id={}&client_secret={}&ll={},{}&oauth_token={}&v={}&query={}&radius={}&limit={}'.format(CLIENT_ID, CLIENT_SECRET, latitude, longitude,ACCESS_TOKEN, VERSION, search_query, radius, LIMIT)\nresults = requests.get(url).json()\nvenues = results['response']['venues']\n\n\ndataframe_wawa = json_normalize(venues)\ndataframe_wawa.shape"
        },
        {
            "cell_type": "code",
            "execution_count": 26,
            "metadata": {},
            "outputs": [
                {
                    "data": {
                        "text/html": "<div>\n<style scoped>\n    .dataframe tbody tr th:only-of-type {\n        vertical-align: middle;\n    }\n\n    .dataframe tbody tr th {\n        vertical-align: top;\n    }\n\n    .dataframe thead th {\n        text-align: right;\n    }\n</style>\n<table border=\"1\" class=\"dataframe\">\n  <thead>\n    <tr style=\"text-align: right;\">\n      <th></th>\n      <th>id</th>\n      <th>name</th>\n      <th>categories</th>\n      <th>referralId</th>\n      <th>hasPerk</th>\n      <th>location.address</th>\n      <th>location.lat</th>\n      <th>location.lng</th>\n      <th>location.labeledLatLngs</th>\n      <th>location.distance</th>\n      <th>location.postalCode</th>\n      <th>location.cc</th>\n      <th>location.city</th>\n      <th>location.state</th>\n      <th>location.country</th>\n      <th>location.formattedAddress</th>\n      <th>delivery.id</th>\n      <th>delivery.url</th>\n      <th>delivery.provider.name</th>\n      <th>delivery.provider.icon.prefix</th>\n      <th>delivery.provider.icon.sizes</th>\n      <th>delivery.provider.icon.name</th>\n      <th>location.crossStreet</th>\n    </tr>\n  </thead>\n  <tbody>\n    <tr>\n      <th>0</th>\n      <td>59d265190336930aa8f7cf7a</td>\n      <td>Sheetz #637</td>\n      <td>[{'id': '4d954b0ea243a5684a65b473', 'name': 'C...</td>\n      <td>v-1610489080</td>\n      <td>False</td>\n      <td>1517 University Ave</td>\n      <td>38.035319</td>\n      <td>-78.500631</td>\n      <td>[{'label': 'display', 'lat': 38.035319, 'lng':...</td>\n      <td>2014</td>\n      <td>22903</td>\n      <td>US</td>\n      <td>Charlottesville</td>\n      <td>VA</td>\n      <td>United States</td>\n      <td>[1517 University Ave, Charlottesville, VA 22903]</td>\n      <td>1729809</td>\n      <td>https://www.grubhub.com/restaurant/sheetz-1517...</td>\n      <td>grubhub</td>\n      <td>https://fastly.4sqi.net/img/general/cap/</td>\n      <td>[40, 50]</td>\n      <td>/delivery_provider_grubhub_20180129.png</td>\n      <td>NaN</td>\n    </tr>\n    <tr>\n      <th>1</th>\n      <td>4f8581e8e4b05ea63f7db82c</td>\n      <td>Sheetz</td>\n      <td>[{'id': '4bf58dd8d48988d113951735', 'name': 'G...</td>\n      <td>v-1610489080</td>\n      <td>False</td>\n      <td>135 Market St</td>\n      <td>37.979511</td>\n      <td>-78.210045</td>\n      <td>[{'label': 'display', 'lat': 37.97951108619267...</td>\n      <td>24241</td>\n      <td>22942</td>\n      <td>US</td>\n      <td>Zion Crossroads</td>\n      <td>VA</td>\n      <td>United States</td>\n      <td>[135 Market St (at Camp Creek Pkwy.), Zion Cro...</td>\n      <td>1728956</td>\n      <td>https://www.grubhub.com/restaurant/sheetz-135-...</td>\n      <td>grubhub</td>\n      <td>https://fastly.4sqi.net/img/general/cap/</td>\n      <td>[40, 50]</td>\n      <td>/delivery_provider_grubhub_20180129.png</td>\n      <td>at Camp Creek Pkwy.</td>\n    </tr>\n    <tr>\n      <th>2</th>\n      <td>4b8936fbf964a520832332e3</td>\n      <td>Sheetz</td>\n      <td>[{'id': '4d954b0ea243a5684a65b473', 'name': 'C...</td>\n      <td>v-1610489080</td>\n      <td>False</td>\n      <td>2156 W Main St</td>\n      <td>38.076780</td>\n      <td>-78.915775</td>\n      <td>[{'label': 'display', 'lat': 38.07678016257869...</td>\n      <td>38634</td>\n      <td>22980</td>\n      <td>US</td>\n      <td>Waynesboro</td>\n      <td>VA</td>\n      <td>United States</td>\n      <td>[2156 W Main St, Waynesboro, VA 22980]</td>\n      <td>1728106</td>\n      <td>https://www.grubhub.com/restaurant/sheetz-2156...</td>\n      <td>grubhub</td>\n      <td>https://fastly.4sqi.net/img/general/cap/</td>\n      <td>[40, 50]</td>\n      <td>/delivery_provider_grubhub_20180129.png</td>\n      <td>NaN</td>\n    </tr>\n    <tr>\n      <th>3</th>\n      <td>4b56f55df964a520aa2028e3</td>\n      <td>Sheetz</td>\n      <td>[{'id': '4bf58dd8d48988d113951735', 'name': 'G...</td>\n      <td>v-1610489080</td>\n      <td>False</td>\n      <td>726 Tinkling Spring Rd</td>\n      <td>38.080712</td>\n      <td>-78.990619</td>\n      <td>[{'label': 'display', 'lat': 38.0807124, 'lng'...</td>\n      <td>45193</td>\n      <td>22939</td>\n      <td>US</td>\n      <td>Fishersville</td>\n      <td>VA</td>\n      <td>United States</td>\n      <td>[726 Tinkling Spring Rd, Fishersville, VA 22939]</td>\n      <td>1729012</td>\n      <td>https://www.grubhub.com/restaurant/sheetz-726-...</td>\n      <td>grubhub</td>\n      <td>https://fastly.4sqi.net/img/general/cap/</td>\n      <td>[40, 50]</td>\n      <td>/delivery_provider_grubhub_20180129.png</td>\n      <td>NaN</td>\n    </tr>\n    <tr>\n      <th>4</th>\n      <td>4c36e0b418e72d7fc98e15f5</td>\n      <td>Sheetz</td>\n      <td>[{'id': '4bf58dd8d48988d113951735', 'name': 'G...</td>\n      <td>v-1610489080</td>\n      <td>False</td>\n      <td>7020 Seminole Trl</td>\n      <td>38.208117</td>\n      <td>-78.384966</td>\n      <td>[{'label': 'display', 'lat': 38.20811695500742...</td>\n      <td>21625</td>\n      <td>22968</td>\n      <td>US</td>\n      <td>Ruckersville</td>\n      <td>VA</td>\n      <td>United States</td>\n      <td>[7020 Seminole Trl (Rt 607 Cedar Grove Rd), Ru...</td>\n      <td>1724117</td>\n      <td>https://www.grubhub.com/restaurant/sheetz-7020...</td>\n      <td>grubhub</td>\n      <td>https://fastly.4sqi.net/img/general/cap/</td>\n      <td>[40, 50]</td>\n      <td>/delivery_provider_grubhub_20180129.png</td>\n      <td>Rt 607 Cedar Grove Rd</td>\n    </tr>\n  </tbody>\n</table>\n</div>",
                        "text/plain": "                         id         name  \\\n0  59d265190336930aa8f7cf7a  Sheetz #637   \n1  4f8581e8e4b05ea63f7db82c       Sheetz   \n2  4b8936fbf964a520832332e3       Sheetz   \n3  4b56f55df964a520aa2028e3       Sheetz   \n4  4c36e0b418e72d7fc98e15f5       Sheetz   \n\n                                          categories    referralId  hasPerk  \\\n0  [{'id': '4d954b0ea243a5684a65b473', 'name': 'C...  v-1610489080    False   \n1  [{'id': '4bf58dd8d48988d113951735', 'name': 'G...  v-1610489080    False   \n2  [{'id': '4d954b0ea243a5684a65b473', 'name': 'C...  v-1610489080    False   \n3  [{'id': '4bf58dd8d48988d113951735', 'name': 'G...  v-1610489080    False   \n4  [{'id': '4bf58dd8d48988d113951735', 'name': 'G...  v-1610489080    False   \n\n         location.address  location.lat  location.lng  \\\n0     1517 University Ave     38.035319    -78.500631   \n1           135 Market St     37.979511    -78.210045   \n2          2156 W Main St     38.076780    -78.915775   \n3  726 Tinkling Spring Rd     38.080712    -78.990619   \n4       7020 Seminole Trl     38.208117    -78.384966   \n\n                             location.labeledLatLngs  location.distance  \\\n0  [{'label': 'display', 'lat': 38.035319, 'lng':...               2014   \n1  [{'label': 'display', 'lat': 37.97951108619267...              24241   \n2  [{'label': 'display', 'lat': 38.07678016257869...              38634   \n3  [{'label': 'display', 'lat': 38.0807124, 'lng'...              45193   \n4  [{'label': 'display', 'lat': 38.20811695500742...              21625   \n\n  location.postalCode location.cc    location.city location.state  \\\n0               22903          US  Charlottesville             VA   \n1               22942          US  Zion Crossroads             VA   \n2               22980          US       Waynesboro             VA   \n3               22939          US     Fishersville             VA   \n4               22968          US     Ruckersville             VA   \n\n  location.country                          location.formattedAddress  \\\n0    United States   [1517 University Ave, Charlottesville, VA 22903]   \n1    United States  [135 Market St (at Camp Creek Pkwy.), Zion Cro...   \n2    United States             [2156 W Main St, Waynesboro, VA 22980]   \n3    United States   [726 Tinkling Spring Rd, Fishersville, VA 22939]   \n4    United States  [7020 Seminole Trl (Rt 607 Cedar Grove Rd), Ru...   \n\n  delivery.id                                       delivery.url  \\\n0     1729809  https://www.grubhub.com/restaurant/sheetz-1517...   \n1     1728956  https://www.grubhub.com/restaurant/sheetz-135-...   \n2     1728106  https://www.grubhub.com/restaurant/sheetz-2156...   \n3     1729012  https://www.grubhub.com/restaurant/sheetz-726-...   \n4     1724117  https://www.grubhub.com/restaurant/sheetz-7020...   \n\n  delivery.provider.name             delivery.provider.icon.prefix  \\\n0                grubhub  https://fastly.4sqi.net/img/general/cap/   \n1                grubhub  https://fastly.4sqi.net/img/general/cap/   \n2                grubhub  https://fastly.4sqi.net/img/general/cap/   \n3                grubhub  https://fastly.4sqi.net/img/general/cap/   \n4                grubhub  https://fastly.4sqi.net/img/general/cap/   \n\n  delivery.provider.icon.sizes              delivery.provider.icon.name  \\\n0                     [40, 50]  /delivery_provider_grubhub_20180129.png   \n1                     [40, 50]  /delivery_provider_grubhub_20180129.png   \n2                     [40, 50]  /delivery_provider_grubhub_20180129.png   \n3                     [40, 50]  /delivery_provider_grubhub_20180129.png   \n4                     [40, 50]  /delivery_provider_grubhub_20180129.png   \n\n    location.crossStreet  \n0                    NaN  \n1    at Camp Creek Pkwy.  \n2                    NaN  \n3                    NaN  \n4  Rt 607 Cedar Grove Rd  "
                    },
                    "execution_count": 26,
                    "metadata": {},
                    "output_type": "execute_result"
                }
            ],
            "source": "dataframe_sheetz.head()\n"
        },
        {
            "cell_type": "code",
            "execution_count": null,
            "metadata": {},
            "outputs": [],
            "source": ""
        },
        {
            "cell_type": "code",
            "execution_count": null,
            "metadata": {},
            "outputs": [],
            "source": ""
        },
        {
            "cell_type": "code",
            "execution_count": null,
            "metadata": {},
            "outputs": [],
            "source": ""
        }
    ],
    "metadata": {
        "kernelspec": {
            "display_name": "Python 3.7",
            "language": "python",
            "name": "python3"
        },
        "language_info": {
            "codemirror_mode": {
                "name": "ipython",
                "version": 3
            },
            "file_extension": ".py",
            "mimetype": "text/x-python",
            "name": "python",
            "nbconvert_exporter": "python",
            "pygments_lexer": "ipython3",
            "version": "3.7.9"
        }
    },
    "nbformat": 4,
    "nbformat_minor": 1
}